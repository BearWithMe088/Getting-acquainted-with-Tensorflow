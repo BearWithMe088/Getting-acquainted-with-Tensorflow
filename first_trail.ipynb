{
 "cells": [
  {
   "cell_type": "code",
   "execution_count": 9,
   "metadata": {},
   "outputs": [],
   "source": [
    "import tensorflow as tf\n",
    "import numpy as np\n",
    "import pandas as pd\n",
    "import matplotlib\n",
    "from matplotlib import pyplot as plt\n",
    "#from sklearn.preprocessing import MinMaxScaler\n",
    "#import sklearn\n",
    "\n",
    "np.random.seed(101) \n",
    "tf.set_random_seed(101) "
   ]
  },
  {
   "cell_type": "code",
   "execution_count": 10,
   "metadata": {},
   "outputs": [
    {
     "name": "stdout",
     "output_type": "stream",
     "text": [
      "<class 'tensorflow.python.framework.ops.Tensor'>\n",
      "Tensor(\"add_2:0\", shape=(), dtype=string)\n",
      "b'Tensorflow'\n",
      "Output for matrix multiplication:\n",
      "[[7 7]\n",
      " [7 7]]\n"
     ]
    }
   ],
   "source": [
    "#Intro to sessions\n",
    "\n",
    "first_string = tf.constant('Tensor')\n",
    "second_string = tf.constant('flow')\n",
    "print(type(first_string)) #It is a Tensor Object and not a string\n",
    "\n",
    "combined_string = first_string + second_string\n",
    "print(combined_string)\n",
    "\n",
    "matrix_1 = tf.constant([[1,2], [1,2]])\n",
    "matrix_2 = tf.constant([[1,3], [3,2]])\n",
    "\n",
    "mul_matrix = tf.matmul(matrix_1, matrix_2)\n",
    "\n",
    "with tf.Session() as session:\n",
    "    result = session.run(combined_string)\n",
    "    print(result)\n",
    "    print(\"Output for matrix multiplication:\")\n",
    "    mul = session.run(mul_matrix)\n",
    "    print(mul)\n",
    "\n",
    "#The graphs define computation. In the data flow graph, each node performs an operation with some inputs, they generate outputs of this operation."
   ]
  },
  {
   "cell_type": "code",
   "execution_count": 11,
   "metadata": {},
   "outputs": [
    {
     "name": "stdout",
     "output_type": "stream",
     "text": [
      "<class 'tensorflow.python.ops.variables.RefVariable'>\n",
      "5\n"
     ]
    }
   ],
   "source": [
    "#variable definitions\n",
    "\n",
    "first_variable = tf.Variable(5)\n",
    "print(type(first_variable))\n",
    "\n",
    "initialize = tf.global_variables_initializer() #Very important step. All used variables(even if constant) should be initialised.\n",
    "\n",
    "with tf.Session() as session:\n",
    "    initialize.run()\n",
    "    print(first_variable.eval())"
   ]
  },
  {
   "cell_type": "code",
   "execution_count": 12,
   "metadata": {},
   "outputs": [
    {
     "name": "stdout",
     "output_type": "stream",
     "text": [
      "[[51.63986277 57.06675869  2.84742265]\n",
      " [17.15216562 68.52769817 83.38968626]\n",
      " [30.69662197 89.36130797 72.15438618]]\n",
      "Random weights associated:\n",
      "[[18.99389542]\n",
      " [55.42275911]\n",
      " [35.2131954 ]]\n",
      "\n",
      "[[ 70.63376   76.06065   21.841316]\n",
      " [ 72.57493  123.950455 138.81244 ]\n",
      " [ 65.90982  124.5745   107.367584]]\n",
      "\n",
      "[[ 980.8421   1083.9199     54.083645]\n",
      " [ 950.6204   3797.994    4621.6865  ]\n",
      " [1080.9261   3146.697    2540.7866  ]]\n"
     ]
    }
   ],
   "source": [
    "#Placeholder beginning\n",
    "\n",
    "random_data = np.random.uniform(0,100,(3,3))\n",
    "random_weights = np.random.uniform(0,100,(3,1))\n",
    "\n",
    "print(random_data)\n",
    "print(\"Random weights associated:\")\n",
    "print(random_weights)\n",
    "\n",
    "print()\n",
    "\n",
    "placeholder_one = tf.placeholder(tf.float32)\n",
    "placeholder_two = tf.placeholder(tf.float32)\n",
    "\n",
    "add = placeholder_one + placeholder_two\n",
    "mul = placeholder_one * placeholder_two\n",
    "\n",
    "with tf.Session() as session:\n",
    "    add_result = session.run(add, {placeholder_one:random_data, placeholder_two:random_weights})\n",
    "    mul_result = session.run(mul, {placeholder_one:random_data, placeholder_two:random_weights})\n",
    "    \n",
    "    print(add_result)\n",
    "    print()\n",
    "    print(mul_result)\n"
   ]
  },
  {
   "cell_type": "code",
   "execution_count": 24,
   "metadata": {},
   "outputs": [
    {
     "name": "stdout",
     "output_type": "stream",
     "text": [
      "500\n"
     ]
    },
    {
     "data": {
      "image/png": "[encoded data removed]",
      "text/plain": [
       "<Figure size 432x288 with 1 Axes>"
      ]
     },
     "metadata": {
      "needs_background": "light"
     },
     "output_type": "display_data"
    }
   ],
   "source": [
    "#Simple ML problem using tensorflow(1)\n",
    "\n",
    "\n",
    "#Random Data generation\n",
    "x = np.linspace(0, 50, 500) \n",
    "y = np.linspace(0, 50, 500) \n",
    "  \n",
    "\n",
    "x += np.random.uniform(-4, 4, 500) \n",
    "y += np.random.uniform(-4, 4, 500) \n",
    "  \n",
    "n = len(x)\n",
    "print(n)\n",
    "\n",
    "#Plotting the Data\n",
    "plt.scatter(x,y, color = 'Red'), plt.xlabel(\"X\"), plt.ylabel(\"Y\")\n",
    "plt.show()"
   ]
  },
  {
   "cell_type": "code",
   "execution_count": 25,
   "metadata": {},
   "outputs": [],
   "source": [
    "#Simple ML problem using tensorflow(2)\n",
    "\n",
    "#Defining Placeholders for X and Y\n",
    "X = tf.placeholder(tf.float32)\n",
    "Y = tf.placeholder(tf.float32)\n",
    "\n",
    "#Weight and Bias\n",
    "weight = tf.Variable(np.random.randn()) \n",
    "bias = tf.Variable(np.random.randn()) \n",
    "\n",
    "#learning rate and ephocs\n",
    "learning_rate = 0.1\n",
    "training_epochs = 1000"
   ]
  },
  {
   "cell_type": "code",
   "execution_count": 27,
   "metadata": {},
   "outputs": [
    {
     "name": "stdout",
     "output_type": "stream",
     "text": [
      "WARNING:tensorflow:From /Users/nehakdasari/Library/Python/3.7/lib/python/site-packages/tensorflow/python/ops/math_ops.py:3066: to_int32 (from tensorflow.python.ops.math_ops) is deprecated and will be removed in a future version.\n",
      "Instructions for updating:\n",
      "Use tf.cast instead.\n"
     ]
    }
   ],
   "source": [
    "#Simple ML problem using tensorflow(3)\n",
    "\n",
    "#Hypothesis function y = weight*x + bias\n",
    "y_pred = tf.add(tf.multiply(weight, X), bias)\n",
    "\n",
    "#Cost Function\n",
    "cost = tf.reduce_sum(tf.pow(y_pred-Y, 2)) / (2 * n) \n",
    "\n",
    "# Gradient Descent Optimizer \n",
    "optimizer = tf.train.GradientDescentOptimizer(learning_rate).minimize(cost) \n",
    "  \n",
    "# Global Variables Initializer \n",
    "initialize = tf.global_variables_initializer() "
   ]
  },
  {
   "cell_type": "code",
   "execution_count": 32,
   "metadata": {},
   "outputs": [
    {
     "name": "stdout",
     "output_type": "stream",
     "text": [
      "Epoch 100 : cost = 6.0440664 Weight = 0.89915335 bias = 1.9333947\n",
      "Epoch 200 : cost = 6.094841 Weight = 0.8883013 bias = 2.4869776\n",
      "Epoch 300 : cost = 6.1230383 Weight = 0.8856737 bias = 2.6210165\n",
      "Epoch 400 : cost = 6.1307907 Weight = 0.88503826 bias = 2.6534324\n",
      "Epoch 500 : cost = 6.1327124 Weight = 0.88488513 bias = 2.6612446\n",
      "Epoch 600 : cost = 6.133196 Weight = 0.88484687 bias = 2.663194\n",
      "Epoch 700 : cost = 6.133345 Weight = 0.88483506 bias = 2.6637974\n",
      "Epoch 800 : cost = 6.1333766 Weight = 0.8848326 bias = 2.6639225\n",
      "Epoch 900 : cost = 6.133378 Weight = 0.8848323 bias = 2.663939\n",
      "Epoch 1000 : cost = 6.133378 Weight = 0.8848323 bias = 2.663939\n"
     ]
    }
   ],
   "source": [
    "#Simple ML problem using tensorflow(4)\n",
    "\n",
    "#Tensorflow Session\n",
    "\n",
    "with tf.Session() as session:\n",
    "    initialize.run()\n",
    "    for epoch in range(training_epochs): \n",
    "          \n",
    "        # Feeding each data point into the optimizer using Feed Dictionary \n",
    "        for (_x, _y) in zip(x, y): \n",
    "            session.run(optimizer, feed_dict = {X : _x, Y : _y}) \n",
    "          \n",
    "        # Displaying the result after every 50 epochs \n",
    "        if (epoch + 1) % 100 == 0: \n",
    "            # Calculating the cost a every epoch \n",
    "            c = session.run(cost, feed_dict = {X : x, Y : y}) \n",
    "            print(\"Epoch\", (epoch + 1), \": cost =\", c, \"Weight =\", session.run(weight), \"bias =\", session.run(bias)) \n",
    "      \n",
    "    # Storing necessary values to be used outside the Session \n",
    "    training_cost = session.run(cost, feed_dict ={X: x, Y: y}) \n",
    "    weight_ref = session.run(weight) \n",
    "    bias_ref = session.run(bias) "
   ]
  },
  {
   "cell_type": "code",
   "execution_count": 44,
   "metadata": {},
   "outputs": [
    {
     "data": {
      "image/png": "[encoded data removed]",
      "text/plain": [
       "<Figure size 432x288 with 1 Axes>"
      ]
     },
     "metadata": {
      "needs_background": "light"
     },
     "output_type": "display_data"
    }
   ],
   "source": [
    "#Simple ML problem using tensorflow(5)\n",
    "\n",
    "# Calculating the predictions \n",
    "predictions = weight_ref * x + bias_ref \n",
    "\n",
    "# Plotting the Results \n",
    "plt.plot(x, y, 'ro', label ='Original data') ,plt.plot(x, predictions, label ='Fitted line') , plt.title('Linear Regression Result') \n",
    "plt.legend() \n",
    "plt.show() \n"
   ]
  },
  {
   "cell_type": "code",
   "execution_count": null,
   "metadata": {},
   "outputs": [],
   "source": []
  }
 ],
 "metadata": {
  "kernelspec": {
   "display_name": "Python 3",
   "language": "python",
   "name": "python3"
  },
  "language_info": {
   "codemirror_mode": {
    "name": "ipython",
    "version": 3
   },
   "file_extension": ".py",
   "mimetype": "text/x-python",
   "name": "python",
   "nbconvert_exporter": "python",
   "pygments_lexer": "ipython3",
   "version": "3.7.3"
  }
 },
 "nbformat": 4,
 "nbformat_minor": 2
}
